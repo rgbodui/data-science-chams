{
 "cells": [
  {
   "cell_type": "code",
   "execution_count": null,
   "id": "initial_id",
   "metadata": {
    "collapsed": true
   },
   "outputs": [],
   "source": [
    "import pandas as pd\n",
    "import numpy as np\n",
    "import matplotlib.pyplot as plt\n",
    "import seaborn as sns\n",
    "from scipy import stats\n",
    "\n",
    "import outils_data"
   ]
  },
  {
   "cell_type": "code",
   "execution_count": null,
   "outputs": [],
   "source": [
    "df = pd.read_csv('Loan Data.csv')\n",
    "df.sample(5)"
   ],
   "metadata": {
    "collapsed": false
   },
   "id": "b754d465c41fc07c"
  },
  {
   "cell_type": "markdown",
   "source": [
    "---\n",
    "**Identification des variables catégorielles et numériques**"
   ],
   "metadata": {
    "collapsed": false
   },
   "id": "659ebdc7e58c2f7a"
  },
  {
   "cell_type": "code",
   "execution_count": null,
   "outputs": [],
   "source": [
    "df.info()"
   ],
   "metadata": {
    "collapsed": false
   },
   "id": "e2ec15afe29d32aa"
  },
  {
   "cell_type": "code",
   "execution_count": null,
   "outputs": [],
   "source": [
    "numeric_columns = df.select_dtypes(include=['float64', 'int64']).columns.to_list()\n",
    "numeric_columns.remove('Credit_History')\n",
    "numeric_columns"
   ],
   "metadata": {
    "collapsed": false
   },
   "id": "8b79348042969164"
  },
  {
   "cell_type": "code",
   "execution_count": null,
   "outputs": [],
   "source": [
    "categorical_columns = df.select_dtypes(exclude=['float64', 'int64']).columns.tolist()\n",
    "categorical_columns.append('Credit_History')\n",
    "categorical_columns.remove('Loan_ID')\n",
    "categorical_columns"
   ],
   "metadata": {
    "collapsed": false
   },
   "id": "b5d7655581688dfd"
  },
  {
   "cell_type": "markdown",
   "source": [
    "---\n",
    "Description du dataframe, identification des valeurs nulles"
   ],
   "metadata": {
    "collapsed": false
   },
   "id": "52a91e13a5c0aefe"
  },
  {
   "cell_type": "code",
   "execution_count": null,
   "outputs": [],
   "source": [
    "df.shape"
   ],
   "metadata": {
    "collapsed": false
   },
   "id": "247c9843fbd6d529"
  },
  {
   "cell_type": "code",
   "execution_count": null,
   "outputs": [],
   "source": [
    "df.describe()"
   ],
   "metadata": {
    "collapsed": false
   },
   "id": "3e03cc766652d963"
  },
  {
   "cell_type": "code",
   "execution_count": null,
   "outputs": [],
   "source": [
    "df.describe(exclude=np.number)"
   ],
   "metadata": {
    "collapsed": false
   },
   "id": "8953559385298b7d"
  },
  {
   "cell_type": "code",
   "execution_count": null,
   "outputs": [],
   "source": [
    "df.isna().sum()"
   ],
   "metadata": {
    "collapsed": false
   },
   "id": "6cd4a7fd3653a41a"
  },
  {
   "cell_type": "markdown",
   "source": [
    "---\n",
    "Analyses univariées"
   ],
   "metadata": {
    "collapsed": false
   },
   "id": "f5bf8416cd1d786c"
  },
  {
   "cell_type": "code",
   "execution_count": null,
   "outputs": [],
   "source": [
    "for column in numeric_columns:\n",
    "    outils_data.distribution_curve(df, column)\n",
    "    \n",
    "    if (outils_data.normal_distribution(df, column, 0.05)) :\n",
    "        print(f\"La variable {column} suit une distribution normale.\")\n",
    "    else:\n",
    "        print(f\"La variable {column} ne suit pas une distribution normale.\")\n",
    "\n",
    "outils_data.draw_boxplots(numeric_columns, df)"
   ],
   "metadata": {
    "collapsed": false
   },
   "id": "ad7cfd62cf44a16c"
  },
  {
   "cell_type": "code",
   "execution_count": null,
   "outputs": [],
   "source": [
    "for column in categorical_columns :\n",
    "    print(f\"{column} : {df[column].unique()}\")"
   ],
   "metadata": {
    "collapsed": false
   },
   "id": "a842393d7bdc9be6"
  },
  {
   "cell_type": "code",
   "execution_count": null,
   "outputs": [],
   "source": [
    "df_inconnu = df.copy()\n",
    "for column in categorical_columns :\n",
    "    df_inconnu[column] = df_inconnu[column].fillna(\"Inconnu\")\n",
    "    \n",
    "# Calculer les pourcentages d'occurrence\n",
    "for column in categorical_columns :\n",
    "    print(\"\\n\")\n",
    "    pourcentages = df_inconnu[column].value_counts(normalize=True) * 100\n",
    "    pourcentages = pourcentages.round(2)\n",
    "    print(pourcentages)"
   ],
   "metadata": {
    "collapsed": false
   },
   "id": "e737a1d8a9a96905"
  },
  {
   "cell_type": "code",
   "execution_count": null,
   "outputs": [],
   "source": [
    "# Remplacement des valeurs NaN par le mode\n",
    "df_na_filled = df.copy()\n",
    "for column in categorical_columns :\n",
    "    column_mode = df[column].mode()[0]\n",
    "    df_na_filled[column] = df_na_filled[column].fillna(column_mode)"
   ],
   "metadata": {
    "collapsed": false
   },
   "id": "83f63d653e67292c"
  },
  {
   "cell_type": "code",
   "execution_count": null,
   "outputs": [],
   "source": [
    "outils_data.draw_pieplot(df_na_filled,'Gender')"
   ],
   "metadata": {
    "collapsed": false
   },
   "id": "3c89e533530ca21d"
  },
  {
   "cell_type": "code",
   "execution_count": null,
   "outputs": [],
   "source": [
    "outils_data.draw_pieplot(df_na_filled,'Married')"
   ],
   "metadata": {
    "collapsed": false
   },
   "id": "1f4b8d9bd7b24ce3"
  },
  {
   "cell_type": "code",
   "execution_count": null,
   "outputs": [],
   "source": [
    "outils_data.draw_barplot(df_na_filled,'Dependents')"
   ],
   "metadata": {
    "collapsed": false
   },
   "id": "dd44440fa071c864"
  },
  {
   "cell_type": "code",
   "execution_count": null,
   "outputs": [],
   "source": [
    "outils_data.draw_pieplot(df_na_filled,'Education')"
   ],
   "metadata": {
    "collapsed": false
   },
   "id": "ca2372b3e1bba0cd"
  },
  {
   "cell_type": "code",
   "execution_count": null,
   "outputs": [],
   "source": [
    "outils_data.draw_pieplot(df_na_filled,'Self_Employed')"
   ],
   "metadata": {
    "collapsed": false
   },
   "id": "8e9f8588a8b490b6"
  },
  {
   "cell_type": "code",
   "execution_count": null,
   "outputs": [],
   "source": [
    "outils_data.draw_pieplot(df_na_filled,'Property_Area')"
   ],
   "metadata": {
    "collapsed": false
   },
   "id": "aa9bb9ff586bf512"
  },
  {
   "cell_type": "code",
   "execution_count": null,
   "outputs": [],
   "source": [
    "outils_data.draw_pieplot(df_na_filled,'Loan_Status')"
   ],
   "metadata": {
    "collapsed": false
   },
   "id": "f58a2334be95c8e2"
  },
  {
   "cell_type": "code",
   "execution_count": null,
   "outputs": [],
   "source": [
    "outils_data.draw_pieplot(df_na_filled,'Credit_History')"
   ],
   "metadata": {
    "collapsed": false
   },
   "id": "ee6685d84daa6f1b"
  },
  {
   "cell_type": "markdown",
   "source": [
    "---\n",
    "**Analyses bivariées**"
   ],
   "metadata": {
    "collapsed": false
   },
   "id": "c9e67ac8e89b5143"
  },
  {
   "cell_type": "code",
   "execution_count": null,
   "outputs": [],
   "source": [
    "df_corr = df[numeric_columns]\n",
    "correl = df_corr.corr()\n",
    "correl.style.background_gradient(cmap='coolwarm')"
   ],
   "metadata": {
    "collapsed": false
   },
   "id": "164a5af899201fc9"
  },
  {
   "cell_type": "code",
   "execution_count": null,
   "outputs": [],
   "source": [
    "plt.figure(figsize=(10, 8))\n",
    "sns.heatmap(df_corr.corr(), fmt='.2g', annot=True)"
   ],
   "metadata": {
    "collapsed": false
   },
   "id": "31e578b21a42f6c8"
  },
  {
   "cell_type": "code",
   "execution_count": null,
   "outputs": [],
   "source": [
    "outils_data.chi_squared_tests(df_na_filled, categorical_columns)"
   ],
   "metadata": {
    "collapsed": false
   },
   "id": "2c5afd0d80b8408d"
  },
  {
   "cell_type": "markdown",
   "source": [
    "Remplaçons les valeurs nulles par la médiane pour les colonnes LoanAmount et Loan_Amount_Term"
   ],
   "metadata": {
    "collapsed": false
   },
   "id": "42b923a49eb656a4"
  },
  {
   "cell_type": "code",
   "execution_count": null,
   "outputs": [],
   "source": [
    "med_loan_amount = df_na_filled['LoanAmount'].median()\n",
    "df_na_filled['LoanAmount'] = df_na_filled['LoanAmount'].fillna(med_loan_amount)"
   ],
   "metadata": {
    "collapsed": false
   },
   "id": "143f26567a5c8c7"
  },
  {
   "cell_type": "code",
   "execution_count": null,
   "outputs": [],
   "source": [
    "med_loan_amount_term = df_na_filled['Loan_Amount_Term'].median()\n",
    "df_na_filled['Loan_Amount_Term'] = df_na_filled['Loan_Amount_Term'].fillna(med_loan_amount_term)"
   ],
   "metadata": {
    "collapsed": false
   },
   "id": "706e762bf41d2970"
  },
  {
   "cell_type": "markdown",
   "source": [
    "Pour chacune des colonnes numériques, on va essayer de voir le nombre d'outliers en utilisant les fonctions du module outils_data"
   ],
   "metadata": {
    "collapsed": false
   },
   "id": "24b2883b72609100"
  },
  {
   "cell_type": "code",
   "execution_count": null,
   "outputs": [],
   "source": [
    "df_to_use = df_na_filled.copy()\n",
    "\n",
    "# Nous choisissons trois méthodes et nous imposons un seuil de 2 pour que ce soit un outlier\n",
    "df_with_outliers = outils_data.dataframe_outliers(df_to_use, numeric_columns, outils_data.iqr, outils_data.zscore, cont=0.02)\n",
    "\n",
    "for column in numeric_columns :\n",
    "    df_outliers = outils_data.outliers_by_column(df_with_outliers, column, threshold=2)\n",
    "    med = df_to_use[column].median()\n",
    "    if df_to_use[column].dtype == 'int64' :\n",
    "        med = int(med)\n",
    "        \n",
    "    for index, row in df_outliers.iterrows() :\n",
    "        loan_id = row['Loan_ID']\n",
    "        df_to_use.loc[df_to_use['Loan_ID']==loan_id, column] = med"
   ],
   "metadata": {
    "collapsed": false
   },
   "id": "8a49ea7a807aa47a"
  },
  {
   "cell_type": "markdown",
   "source": [
    "**Mise en oeuvre des algorithmes**"
   ],
   "metadata": {
    "collapsed": false
   },
   "id": "55c120fb59cde18f"
  },
  {
   "cell_type": "code",
   "execution_count": null,
   "outputs": [],
   "source": [
    "from sklearn.model_selection import train_test_split\n",
    "from sklearn.linear_model import LogisticRegression\n",
    "from sklearn.ensemble import RandomForestClassifier\n",
    "from sklearn.neighbors import KNeighborsClassifier\n",
    "from sklearn.svm import SVC\n",
    "from sklearn.metrics import accuracy_score, classification_report"
   ],
   "metadata": {
    "collapsed": false
   },
   "id": "e8d8294e392c6b81"
  },
  {
   "cell_type": "code",
   "execution_count": null,
   "outputs": [],
   "source": [
    "df_to_use.info()"
   ],
   "metadata": {
    "collapsed": false
   },
   "id": "706d874cbaedf3ac"
  },
  {
   "cell_type": "code",
   "execution_count": null,
   "outputs": [],
   "source": [
    "# Encodage avec le One-Hot Encoding pour Property Area\n",
    "df_to_use = pd.get_dummies(df_to_use, columns=[\"Dependents\", \"Gender\", \"Married\", \"Self_Employed\", \"Education\", \"Property_Area\"])\n",
    "df_to_use.sample(10)"
   ],
   "metadata": {
    "collapsed": false
   },
   "id": "1aa0ae29ae6cbb1c"
  },
  {
   "cell_type": "code",
   "execution_count": null,
   "outputs": [],
   "source": [
    "# Changer manuellement les autres types de colonnes\n",
    "df_to_use.loc[df_to_use['Loan_Status']=='N', 'Loan_Status'] = 0\n",
    "df_to_use.loc[df_to_use['Loan_Status']=='Y', 'Loan_Status'] = 1\n",
    "df_to_use['Loan_Status'] = df_to_use['Loan_Status'].astype(int)\n",
    "\n",
    "df_to_use['Credit_History'] = df_to_use['Credit_History'].astype(int)\n",
    "\n",
    "df_to_use.sample(10)"
   ],
   "metadata": {
    "collapsed": false
   },
   "id": "453f434570ebf78b"
  },
  {
   "cell_type": "code",
   "execution_count": null,
   "outputs": [],
   "source": [
    "# Division des données en features et target\n",
    "X = df_to_use.drop([\"Loan_ID\", \"Loan_Status\"], axis=1).values\n",
    "y = df_to_use[\"Loan_Status\"].values"
   ],
   "metadata": {
    "collapsed": false
   },
   "id": "2fa555b91e15a4e3"
  },
  {
   "cell_type": "code",
   "execution_count": null,
   "outputs": [],
   "source": [
    "# Diviser les données en ensembles d'entraînement et de test\n",
    "X_train, X_test, y_train, y_test = train_test_split(X, y, test_size=0.2, random_state=42)"
   ],
   "metadata": {
    "collapsed": false
   },
   "id": "d9d038a33353108"
  },
  {
   "cell_type": "code",
   "execution_count": null,
   "outputs": [],
   "source": [
    "# Faire de l'oversampling pour rééquilibrer les classes\n",
    "from imblearn.over_sampling import SMOTE\n",
    "smote = SMOTE(random_state=21)\n",
    "\n",
    "X_resampled, y_resampled = smote.fit_resample(X_train, y_train)"
   ],
   "metadata": {
    "collapsed": false
   },
   "id": "8c0593ea8c999181"
  },
  {
   "cell_type": "markdown",
   "source": [
    "*Régression logistique*"
   ],
   "metadata": {
    "collapsed": false
   },
   "id": "8472436e07f0e10f"
  },
  {
   "cell_type": "code",
   "execution_count": null,
   "outputs": [],
   "source": [
    "# Entraînement du modèle\n",
    "lr_model = LogisticRegression()\n",
    "lr_model.fit(X_resampled, y_resampled)"
   ],
   "metadata": {
    "collapsed": false
   },
   "id": "93d5f9d32ba0bc44"
  },
  {
   "cell_type": "code",
   "execution_count": null,
   "outputs": [],
   "source": [
    "# Prédiction et évaluation\n",
    "y_pred = lr_model.predict(X_test)\n",
    "\n",
    "accuracy = accuracy_score(y_test, y_pred)\n",
    "report = classification_report(y_test, y_pred)\n",
    "\n",
    "print(f\"Accuracy : {accuracy}\")\n",
    "print(f\"Classification report : \\n{report}\")"
   ],
   "metadata": {
    "collapsed": false
   },
   "id": "8d65e76d32cac0c6"
  },
  {
   "cell_type": "markdown",
   "source": [
    "---\n",
    "*Random forest*"
   ],
   "metadata": {
    "collapsed": false
   },
   "id": "3e6145202696af52"
  },
  {
   "cell_type": "code",
   "execution_count": null,
   "outputs": [],
   "source": [
    "# Initialisation et entraînement du modèle\n",
    "rf_model = RandomForestClassifier(n_estimators=100, random_state=42)\n",
    "rf_model.fit(X_resampled, y_resampled)"
   ],
   "metadata": {
    "collapsed": false
   },
   "id": "d7e9eb439c3a9f99"
  },
  {
   "cell_type": "code",
   "execution_count": null,
   "outputs": [],
   "source": [
    "# Prédiction et évaluation\n",
    "y_pred = rf_model.predict(X_test)\n",
    "\n",
    "accuracy = accuracy_score(y_test, y_pred)\n",
    "report = classification_report(y_test, y_pred)\n",
    "\n",
    "print(f\"Accuracy : {accuracy}\")\n",
    "print(f\"Classification report : \\n{report}\")"
   ],
   "metadata": {
    "collapsed": false
   },
   "id": "32e3997b5ac70829"
  },
  {
   "cell_type": "markdown",
   "source": [
    "---\n",
    "*Algorithme des K Plus Proches Voisins (KNN)*"
   ],
   "metadata": {
    "collapsed": false
   },
   "id": "e3403670b8c67a1c"
  },
  {
   "cell_type": "code",
   "execution_count": null,
   "outputs": [],
   "source": [
    "# Première expérimentation avec k=5\n",
    "# Initialisation et entraînement du modèle\n",
    "knn_model = KNeighborsClassifier(n_neighbors=5)\n",
    "knn_model.fit(X_resampled, y_resampled)"
   ],
   "metadata": {
    "collapsed": false
   },
   "id": "8365eef284644d31"
  },
  {
   "cell_type": "code",
   "execution_count": null,
   "outputs": [],
   "source": [
    "# Prédiction et évaluation\n",
    "y_pred = knn_model.predict(X_test)\n",
    "\n",
    "accuracy = accuracy_score(y_test, y_pred)\n",
    "report = classification_report(y_test, y_pred)\n",
    "\n",
    "print(f\"Accuracy : {accuracy}\")\n",
    "print(f\"Classification report : \\n{report}\")"
   ],
   "metadata": {
    "collapsed": false
   },
   "id": "cc6b184dd450ab66"
  },
  {
   "cell_type": "code",
   "execution_count": null,
   "outputs": [],
   "source": [
    "# Première expérimentation avec k=3\n",
    "# Initialisation et entraînement du modèle\n",
    "knn_model = KNeighborsClassifier(n_neighbors=3)\n",
    "knn_model.fit(X_resampled, y_resampled)"
   ],
   "metadata": {
    "collapsed": false
   },
   "id": "cb95e21e621b21c9"
  },
  {
   "cell_type": "code",
   "execution_count": null,
   "outputs": [],
   "source": [
    "# Prédiction et évaluation\n",
    "y_pred = knn_model.predict(X_test)\n",
    "\n",
    "accuracy = accuracy_score(y_test, y_pred)\n",
    "report = classification_report(y_test, y_pred)\n",
    "\n",
    "print(f\"Accuracy : {accuracy}\")\n",
    "print(f\"Classification report : \\n{report}\")"
   ],
   "metadata": {
    "collapsed": false
   },
   "id": "d5fc1cf308d09a5a"
  },
  {
   "cell_type": "code",
   "execution_count": null,
   "outputs": [],
   "source": [
    "# Première expérimentation avec k=7\n",
    "# Initialisation et entraînement du modèle\n",
    "knn_model = KNeighborsClassifier(n_neighbors=7)\n",
    "knn_model.fit(X_resampled, y_resampled)"
   ],
   "metadata": {
    "collapsed": false
   },
   "id": "de85ffccca5c19d2"
  },
  {
   "cell_type": "code",
   "execution_count": null,
   "outputs": [],
   "source": [
    "# Prédiction et évaluation\n",
    "y_pred = knn_model.predict(X_test)\n",
    "\n",
    "accuracy = accuracy_score(y_test, y_pred)\n",
    "report = classification_report(y_test, y_pred)\n",
    "\n",
    "print(f\"Accuracy : {accuracy}\")\n",
    "print(f\"Classification report : \\n{report}\")"
   ],
   "metadata": {
    "collapsed": false
   },
   "id": "b029c20c8814fb39"
  },
  {
   "cell_type": "markdown",
   "source": [
    "---\n",
    "*Support Vector Machines*"
   ],
   "metadata": {
    "collapsed": false
   },
   "id": "e8061cdcba315e61"
  },
  {
   "cell_type": "code",
   "execution_count": null,
   "outputs": [],
   "source": [
    "# Initialisation et entraînement du modèle (linéaire)\n",
    "svm_model = SVC(kernel='linear')\n",
    "svm_model.fit(X_resampled, y_resampled)"
   ],
   "metadata": {
    "collapsed": false
   },
   "id": "d00bb8379a2fae1d"
  },
  {
   "cell_type": "code",
   "execution_count": null,
   "outputs": [],
   "source": [
    "# Prédiction et évaluation\n",
    "y_pred = svm_model.predict(X_test)\n",
    "\n",
    "accuracy = accuracy_score(y_test, y_pred)\n",
    "report = classification_report(y_test, y_pred)\n",
    "\n",
    "print(f\"Accuracy : {accuracy}\")\n",
    "print(f\"Classification report : \\n{report}\")"
   ],
   "metadata": {
    "collapsed": false
   },
   "id": "abf579308d4b822b"
  },
  {
   "cell_type": "code",
   "execution_count": null,
   "outputs": [],
   "source": [
    "# Initialisation et entraînement du modèle (sigmoid)\n",
    "svm_model = SVC(kernel='sigmoid')\n",
    "svm_model.fit(X_resampled, y_resampled)\n",
    "\n"
   ],
   "metadata": {
    "collapsed": false
   },
   "id": "5ecf1f0a6c59433a"
  },
  {
   "cell_type": "code",
   "execution_count": null,
   "outputs": [],
   "source": [
    "# Prédiction et évaluation\n",
    "y_pred = svm_model.predict(X_test)\n",
    "\n",
    "accuracy = accuracy_score(y_test, y_pred)\n",
    "report = classification_report(y_test, y_pred)\n",
    "\n",
    "print(f\"Accuracy : {accuracy}\")\n",
    "print(f\"Classification report : \\n{report}\")"
   ],
   "metadata": {
    "collapsed": false
   },
   "id": "132d975215485dbd"
  },
  {
   "cell_type": "code",
   "execution_count": null,
   "outputs": [],
   "source": [
    "# Initialisation et entraînement du modèle (polynomial)\n",
    "svm_model = SVC(kernel='poly')\n",
    "svm_model.fit(X_resampled, y_resampled)"
   ],
   "metadata": {
    "collapsed": false
   },
   "id": "e1fce0ac5e23b5a5"
  },
  {
   "cell_type": "code",
   "execution_count": null,
   "outputs": [],
   "source": [
    "# Prédiction et évaluation\n",
    "y_pred = svm_model.predict(X_test)\n",
    "\n",
    "accuracy = accuracy_score(y_test, y_pred)\n",
    "report = classification_report(y_test, y_pred)\n",
    "\n",
    "print(f\"Accuracy : {accuracy}\")\n",
    "print(f\"Classification report : \\n{report}\")"
   ],
   "metadata": {
    "collapsed": false
   },
   "id": "fb842454b23ba81f"
  },
  {
   "cell_type": "markdown",
   "source": [
    "---\n",
    "*Réseaux de neurones artificiels*"
   ],
   "metadata": {
    "collapsed": false
   },
   "id": "1b2bf0f6a4dabbaf"
  },
  {
   "cell_type": "code",
   "execution_count": null,
   "outputs": [],
   "source": [
    "import tensorflow as tf\n",
    "from tensorflow.keras.models import Sequential\n",
    "from tensorflow.keras.layers import Dense"
   ],
   "metadata": {
    "collapsed": false
   },
   "id": "197375f8ed9b4504"
  },
  {
   "cell_type": "code",
   "execution_count": null,
   "outputs": [],
   "source": [
    "# Initialisation du modèle séquentiel\n",
    "ann_model = Sequential()\n",
    "\n",
    "# Ajoutez des couches au modèle\n",
    "ann_model.add(Dense(units=64, activation='relu', input_shape=(X_train.shape[1],)))\n",
    "ann_model.add(Dense(units=32, activation='relu'))\n",
    "ann_model.add(Dense(units=1, activation='sigmoid'))  # Couche de sortie pour la classification binaire"
   ],
   "metadata": {
    "collapsed": false
   },
   "id": "4190c37508c260db"
  },
  {
   "cell_type": "code",
   "execution_count": null,
   "outputs": [],
   "source": [
    "# Compilation du modèle\n",
    "ann_model.compile(optimizer='adam', loss='binary_crossentropy', metrics=['accuracy'])"
   ],
   "metadata": {
    "collapsed": false
   },
   "id": "b1dbb15d01fd94e"
  },
  {
   "cell_type": "code",
   "execution_count": null,
   "outputs": [],
   "source": [
    "# Entraînement du modèle\n",
    "ann_model.fit(X_resampled, y_resampled, epochs=10, batch_size=32, validation_data=(X_test, y_test))"
   ],
   "metadata": {
    "collapsed": false
   },
   "id": "a597ab2ffa95c69c"
  },
  {
   "cell_type": "code",
   "execution_count": null,
   "outputs": [],
   "source": [
    "# Évaluation des performances du modèle\n",
    "loss, accuracy = ann_model.evaluate(X_test, y_test)\n",
    "report = classification_report(y_test, y_pred)\n",
    "\n",
    "print(f\"Accuracy : {accuracy}\")\n",
    "print(f\"Classification report : \\n{report}\")"
   ],
   "metadata": {
    "collapsed": false
   },
   "id": "c590e00e8b249700"
  }
 ],
 "metadata": {
  "kernelspec": {
   "display_name": "Python 3",
   "language": "python",
   "name": "python3"
  },
  "language_info": {
   "codemirror_mode": {
    "name": "ipython",
    "version": 2
   },
   "file_extension": ".py",
   "mimetype": "text/x-python",
   "name": "python",
   "nbconvert_exporter": "python",
   "pygments_lexer": "ipython2",
   "version": "2.7.6"
  }
 },
 "nbformat": 4,
 "nbformat_minor": 5
}
